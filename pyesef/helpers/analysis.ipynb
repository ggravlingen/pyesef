{
 "cells": [
  {
   "cell_type": "code",
   "execution_count": 2,
   "metadata": {},
   "outputs": [],
   "source": [
    "import pandas as pd\n",
    "import numpy as np\n",
    "from pyesef.const import PATH_PROJECT_ROOT, CSV_SEPARATOR\n",
    "from pyesef.helpers.read_facts import _get_statement_item_group, _get_is_total"
   ]
  },
  {
   "cell_type": "code",
   "execution_count": 3,
   "metadata": {},
   "outputs": [],
   "source": [
    "def char_len(x, fixed_n):\n",
    "    '''set string x to fixed_n character, prepend with 'xxx' if short'''\n",
    "    if isinstance(x, float):\n",
    "        return x\n",
    "\n",
    "    if len(x) > fixed_n: \n",
    "        return x[:fixed_n] \n",
    "    elif len(x) < fixed_n: \n",
    "        return ' ' * (fixed_n - len(x)) + x \n",
    "    return x\n",
    " "
   ]
  },
  {
   "cell_type": "markdown",
   "metadata": {},
   "source": [
    "### Load and cleanup data"
   ]
  },
  {
   "cell_type": "code",
   "execution_count": 4,
   "metadata": {},
   "outputs": [],
   "source": [
    "df = pd.read_csv(f\"{PATH_PROJECT_ROOT}/output.csv\", sep=CSV_SEPARATOR)\n",
    "\n",
    "df['statement_item_group'] = df.apply(lambda row: _get_statement_item_group(local_name=row['local_name']), axis=1)\n",
    "df['is_total'] = df.apply(lambda row: _get_is_total(local_name=row['local_name']), axis=1)\n",
    "df['legal_name'] = df['legal_name'].apply(lambda x: char_len(x, 40))\n",
    "\n",
    "# Remove non-unique values\n",
    "df = df.drop_duplicates(subset=df.columns)\n",
    "\n",
    "# Tidy up formatting of values\n",
    "df[\"value\"] = df[\"value\"] / 1e6\n"
   ]
  },
  {
   "cell_type": "markdown",
   "metadata": {},
   "source": [
    "### Check column names to group"
   ]
  },
  {
   "cell_type": "code",
   "execution_count": 5,
   "metadata": {},
   "outputs": [],
   "source": [
    "#df.query(\n",
    "#    'statement_item_group.str.contains(\"Cost\")'\n",
    "#).statement_item_group.unique()"
   ]
  },
  {
   "cell_type": "markdown",
   "metadata": {},
   "source": [
    "#### Filter"
   ]
  },
  {
   "cell_type": "code",
   "execution_count": 6,
   "metadata": {},
   "outputs": [],
   "source": [
    "filtered_df = df.query(\n",
    "    'period_end in (\"2021-12-31\")'\n",
    "    #' & statement_item_group in (\"Revenue\", \"CashAndCashEquivalents\", \"CostOfSales\", \"Assets\")'\n",
    "    ' & lei==\"2138001H6FCSZBP26351\"'\n",
    "    ' & is_total == False'\n",
    "    ' & statement_type != \"other_comprehensive_income\"'\n",
    "    # We don't need this information\n",
    "    ' & local_name not in (\"ProfitLossAttributableToOwnersOfParent\", \"ProfitLossAttributableToNoncontrollingInterests\")'\n",
    ")\n"
   ]
  },
  {
   "cell_type": "code",
   "execution_count": 7,
   "metadata": {},
   "outputs": [
    {
     "name": "stdout",
     "output_type": "stream",
     "text": [
      "|    | lei                  | legal_name           | period_end   | statement_type      | statement_item_group                                                      | local_name                                                                |   value |\n",
      "|---:|:---------------------|:---------------------|:-------------|:--------------------|:--------------------------------------------------------------------------|:--------------------------------------------------------------------------|--------:|\n",
      "| 45 | 2138001H6FCSZBP26351 | ITAB Shop Concept AB | 2021-12-31   | income_statement    | SellingGeneralAdminExpense                                                | AdministrativeExpense                                                     |     338 |\n",
      "| 46 | 2138001H6FCSZBP26351 | ITAB Shop Concept AB | 2021-12-31   | income_statement    | SellingGeneralAdminExpense                                                | OtherExpenseByFunction                                                    |      57 |\n",
      "| 47 | 2138001H6FCSZBP26351 | ITAB Shop Concept AB | 2021-12-31   | income_statement    | SellingGeneralAdminExpense                                                | SalesAndMarketingExpense                                                  |    1101 |\n",
      "| 43 | 2138001H6FCSZBP26351 | ITAB Shop Concept AB | 2021-12-31   | income_statement    | Revenue                                                                   | OtherIncome                                                               |      40 |\n",
      "| 44 | 2138001H6FCSZBP26351 | ITAB Shop Concept AB | 2021-12-31   | income_statement    | Revenue                                                                   | RevenueFromContractsWithCustomers                                         |    6245 |\n",
      "| 41 | 2138001H6FCSZBP26351 | ITAB Shop Concept AB | 2021-12-31   | income_statement    | NetFinanceIncomeCost                                                      | FinanceIncome                                                             |      14 |\n",
      "| 42 | 2138001H6FCSZBP26351 | ITAB Shop Concept AB | 2021-12-31   | income_statement    | NetFinanceIncomeCost                                                      | ReclassificationAdjustmentsOnCashFlowHedgesBeforeTax                      |      -8 |\n",
      "| 38 | 2138001H6FCSZBP26351 | ITAB Shop Concept AB | 2021-12-31   | income_statement    | GainsLosses                                                               | GainsLossesOnCashFlowHedgesBeforeTax                                      |      13 |\n",
      "| 39 | 2138001H6FCSZBP26351 | ITAB Shop Concept AB | 2021-12-31   | income_statement    | GainsLosses                                                               | GainsLossesOnExchangeDifferencesOnTranslationBeforeTax                    |     118 |\n",
      "| 40 | 2138001H6FCSZBP26351 | ITAB Shop Concept AB | 2021-12-31   | income_statement    | GainsLosses                                                               | GainsLossesOnHedgesOfNetInvestmentsInForeignOperationsBeforeTax           |      -1 |\n",
      "| 37 | 2138001H6FCSZBP26351 | ITAB Shop Concept AB | 2021-12-31   | income_statement    | CurrentTaxes                                                              | IncomeTaxExpenseContinuingOperations                                      |      53 |\n",
      "| 36 | 2138001H6FCSZBP26351 | ITAB Shop Concept AB | 2021-12-31   | income_statement    | CostOfSales                                                               | CostOfSales                                                               |    4565 |\n",
      "| 35 | 2138001H6FCSZBP26351 | ITAB Shop Concept AB | 2021-12-31   | cash_flow_statement | IncreaseDecreaseInWorkingCapital                                          | IncreaseDecreaseInWorkingCapital                                          |     589 |\n",
      "| 34 | 2138001H6FCSZBP26351 | ITAB Shop Concept AB | 2021-12-31   | cash_flow_statement | IncreaseDecreaseInCashAndCashEquivalentsBeforeEffectOfExchangeRateChanges | IncreaseDecreaseInCashAndCashEquivalentsBeforeEffectOfExchangeRateChanges |    -521 |\n",
      "| 32 | 2138001H6FCSZBP26351 | ITAB Shop Concept AB | 2021-12-31   | balance_sheet       | TotalEquity                                                               | EquityAttributableToOwnersOfParent                                        |    2654 |\n",
      "| 33 | 2138001H6FCSZBP26351 | ITAB Shop Concept AB | 2021-12-31   | balance_sheet       | TotalEquity                                                               | NoncontrollingInterests                                                   |     128 |\n",
      "| 31 | 2138001H6FCSZBP26351 | ITAB Shop Concept AB | 2021-12-31   | balance_sheet       | OtherNoncurrentFinancialLiabilities                                       | OtherNoncurrentFinancialLiabilities                                       |      19 |\n",
      "| 30 | 2138001H6FCSZBP26351 | ITAB Shop Concept AB | 2021-12-31   | balance_sheet       | OtherLongtermProvisions                                                   | OtherLongtermProvisions                                                   |      12 |\n",
      "| 29 | 2138001H6FCSZBP26351 | ITAB Shop Concept AB | 2021-12-31   | balance_sheet       | OtherCurrentFinancialLiabilities                                          | OtherCurrentFinancialLiabilities                                          |     121 |\n",
      "| 28 | 2138001H6FCSZBP26351 | ITAB Shop Concept AB | 2021-12-31   | balance_sheet       | OtherCurrentFinancialAssets                                               | OtherCurrentFinancialAssets                                               |     122 |\n",
      "| 27 | 2138001H6FCSZBP26351 | ITAB Shop Concept AB | 2021-12-31   | balance_sheet       | OtherCurrentBorrowingsAndCurrentPortionOfOtherNoncurrentBorrowings        | OtherCurrentBorrowingsAndCurrentPortionOfOtherNoncurrentBorrowings        |      59 |\n",
      "| 26 | 2138001H6FCSZBP26351 | ITAB Shop Concept AB | 2021-12-31   | balance_sheet       | NoncurrentProvisionsForEmployeeBenefits                                   | NoncurrentProvisionsForEmployeeBenefits                                   |      41 |\n",
      "| 25 | 2138001H6FCSZBP26351 | ITAB Shop Concept AB | 2021-12-31   | balance_sheet       | NoncurrentPortionOfNoncurrentLoansReceived                                | NoncurrentPortionOfNoncurrentLoansReceived                                |     570 |\n",
      "| 24 | 2138001H6FCSZBP26351 | ITAB Shop Concept AB | 2021-12-31   | balance_sheet       | NoncurrentLeaseLiabilities                                                | NoncurrentLeaseLiabilities                                                |     491 |\n",
      "| 23 | 2138001H6FCSZBP26351 | ITAB Shop Concept AB | 2021-12-31   | balance_sheet       | NoncurrentFinancialAssets                                                 | NoncurrentFinancialAssets                                                 |     146 |\n",
      "| 22 | 2138001H6FCSZBP26351 | ITAB Shop Concept AB | 2021-12-31   | balance_sheet       | NoncurrentDerivativeFinancialLiabilities                                  | NoncurrentDerivativeFinancialLiabilities                                  |      10 |\n",
      "| 21 | 2138001H6FCSZBP26351 | ITAB Shop Concept AB | 2021-12-31   | balance_sheet       | NoncurrentDerivativeFinancialAssets                                       | NoncurrentDerivativeFinancialAssets                                       |       4 |\n",
      "| 20 | 2138001H6FCSZBP26351 | ITAB Shop Concept AB | 2021-12-31   | balance_sheet       | Machinery                                                                 | Machinery                                                                 |     212 |\n",
      "| 19 | 2138001H6FCSZBP26351 | ITAB Shop Concept AB | 2021-12-31   | balance_sheet       | LandAndBuildings                                                          | LandAndBuildings                                                          |    1034 |\n",
      "| 18 | 2138001H6FCSZBP26351 | ITAB Shop Concept AB | 2021-12-31   | balance_sheet       | Inventories                                                               | Inventories                                                               |    1176 |\n",
      "| 16 | 2138001H6FCSZBP26351 | ITAB Shop Concept AB | 2021-12-31   | balance_sheet       | IntangibleAssets                                                          | Goodwill                                                                  |    1644 |\n",
      "| 17 | 2138001H6FCSZBP26351 | ITAB Shop Concept AB | 2021-12-31   | balance_sheet       | IntangibleAssets                                                          | IntangibleAssetsOtherThanGoodwill                                         |     112 |\n",
      "| 15 | 2138001H6FCSZBP26351 | ITAB Shop Concept AB | 2021-12-31   | balance_sheet       | EquipmentToolsAndInstallation                                             | EquipmentToolsAndInstallation                                             |     206 |\n",
      "| 14 | 2138001H6FCSZBP26351 | ITAB Shop Concept AB | 2021-12-31   | balance_sheet       | DeferredTaxLiabilities                                                    | DeferredTaxLiabilities                                                    |      45 |\n",
      "| 13 | 2138001H6FCSZBP26351 | ITAB Shop Concept AB | 2021-12-31   | balance_sheet       | CurrentTradeReceivables                                                   | CurrentTradeReceivables                                                   |    1118 |\n",
      "| 12 | 2138001H6FCSZBP26351 | ITAB Shop Concept AB | 2021-12-31   | balance_sheet       | CurrentTaxLiabilitiesCurrent                                              | CurrentTaxLiabilitiesCurrent                                              |      97 |\n",
      "| 11 | 2138001H6FCSZBP26351 | ITAB Shop Concept AB | 2021-12-31   | balance_sheet       | CurrentTaxAssets                                                          | CurrentTaxAssets                                                          |      37 |\n",
      "| 10 | 2138001H6FCSZBP26351 | ITAB Shop Concept AB | 2021-12-31   | balance_sheet       | CurrentProvisions                                                         | CurrentProvisions                                                         |      26 |\n",
      "|  9 | 2138001H6FCSZBP26351 | ITAB Shop Concept AB | 2021-12-31   | balance_sheet       | CurrentPrepaymentsAndCurrentAccruedIncome                                 | CurrentPrepaymentsAndCurrentAccruedIncome                                 |      91 |\n",
      "|  7 | 2138001H6FCSZBP26351 | ITAB Shop Concept AB | 2021-12-31   | balance_sheet       | CurrentPayables                                                           | TradeAndOtherCurrentPayablesToRelatedParties                              |       0 |\n",
      "|  8 | 2138001H6FCSZBP26351 | ITAB Shop Concept AB | 2021-12-31   | balance_sheet       | CurrentPayables                                                           | TradeAndOtherCurrentPayablesToTradeSuppliers                              |     971 |\n",
      "|  6 | 2138001H6FCSZBP26351 | ITAB Shop Concept AB | 2021-12-31   | balance_sheet       | CurrentLoansReceivedAndCurrentPortionOfNoncurrentLoansReceived            | CurrentLoansReceivedAndCurrentPortionOfNoncurrentLoansReceived            |     182 |\n",
      "|  5 | 2138001H6FCSZBP26351 | ITAB Shop Concept AB | 2021-12-31   | balance_sheet       | CurrentLeaseLiabilities                                                   | CurrentLeaseLiabilities                                                   |     139 |\n",
      "|  4 | 2138001H6FCSZBP26351 | ITAB Shop Concept AB | 2021-12-31   | balance_sheet       | CurrentAssets                                                             | CurrentAssets                                                             |    2756 |\n",
      "|  3 | 2138001H6FCSZBP26351 | ITAB Shop Concept AB | 2021-12-31   | balance_sheet       | CurrentAdvances                                                           | CurrentAdvances                                                           |      75 |\n",
      "|  2 | 2138001H6FCSZBP26351 | ITAB Shop Concept AB | 2021-12-31   | balance_sheet       | ConstructionInProgress                                                    | ConstructionInProgress                                                    |      17 |\n",
      "|  1 | 2138001H6FCSZBP26351 | ITAB Shop Concept AB | 2021-12-31   | balance_sheet       | CashAndCashEquivalents                                                    | CashAndCashEquivalents                                                    |     208 |\n",
      "|  0 | 2138001H6FCSZBP26351 | ITAB Shop Concept AB | 2021-12-31   | balance_sheet       | AccrualsAndDeferredIncome                                                 | AccrualsAndDeferredIncome                                                 |     384 |\n"
     ]
    }
   ],
   "source": [
    "table = pd.pivot_table(\n",
    "    filtered_df,\n",
    "    values='value',\n",
    "    index=['lei', \"legal_name\", \"period_end\", \"statement_type\", \"statement_item_group\", \"local_name\"],\n",
    "    #columns=['statement_item_group'],\n",
    "    aggfunc=np.sum\n",
    ").reset_index()\n",
    "\n",
    "# Ratios\n",
    "#table[\"gross_margin\"] = 1-table[\"CostOfSales\"] / table[\"Revenue\"]\n",
    "#table[\"cash_to_ta\"] = table[\"CashAndCashEquivalents\"] / table[\"Assets\"]\n",
    "t = table.sort_values(by=['statement_type', \"statement_item_group\"], ascending=False, na_position='last')\n",
    "print(t.to_markdown())\n"
   ]
  },
  {
   "cell_type": "markdown",
   "metadata": {},
   "source": [
    "### Analyse count per item name"
   ]
  },
  {
   "cell_type": "code",
   "execution_count": 8,
   "metadata": {},
   "outputs": [
    {
     "name": "stdout",
     "output_type": "stream",
     "text": [
      "|    | statement_type      | local_name                                                                |   count |\n",
      "|---:|:--------------------|:--------------------------------------------------------------------------|--------:|\n",
      "| 13 | balance_sheet       | EquipmentToolsAndInstallation                                             |       2 |\n",
      "|  0 | balance_sheet       | AccrualsAndDeferredIncome                                                 |       1 |\n",
      "| 25 | balance_sheet       | NoncurrentPortionOfNoncurrentLoansReceived                                |       1 |\n",
      "| 27 | balance_sheet       | OtherCurrentBorrowingsAndCurrentPortionOfOtherNoncurrentBorrowings        |       1 |\n",
      "| 28 | balance_sheet       | OtherCurrentFinancialAssets                                               |       1 |\n",
      "| 29 | balance_sheet       | OtherCurrentFinancialLiabilities                                          |       1 |\n",
      "| 30 | balance_sheet       | OtherLongtermProvisions                                                   |       1 |\n",
      "| 31 | balance_sheet       | OtherNoncurrentFinancialLiabilities                                       |       1 |\n",
      "| 32 | balance_sheet       | TradeAndOtherCurrentPayablesToRelatedParties                              |       1 |\n",
      "| 33 | balance_sheet       | TradeAndOtherCurrentPayablesToTradeSuppliers                              |       1 |\n",
      "| 34 | cash_flow_statement | IncreaseDecreaseInCashAndCashEquivalentsBeforeEffectOfExchangeRateChanges |       1 |\n",
      "| 35 | cash_flow_statement | IncreaseDecreaseInWorkingCapital                                          |       1 |\n",
      "| 36 | income_statement    | AdministrativeExpense                                                     |       1 |\n",
      "| 37 | income_statement    | CostOfSales                                                               |       1 |\n",
      "| 38 | income_statement    | FinanceIncome                                                             |       1 |\n",
      "| 39 | income_statement    | GainsLossesOnCashFlowHedgesBeforeTax                                      |       1 |\n",
      "| 40 | income_statement    | GainsLossesOnExchangeDifferencesOnTranslationBeforeTax                    |       1 |\n",
      "| 41 | income_statement    | GainsLossesOnHedgesOfNetInvestmentsInForeignOperationsBeforeTax           |       1 |\n",
      "| 42 | income_statement    | IncomeTaxExpenseContinuingOperations                                      |       1 |\n",
      "| 43 | income_statement    | OtherExpenseByFunction                                                    |       1 |\n",
      "| 44 | income_statement    | OtherIncome                                                               |       1 |\n",
      "| 45 | income_statement    | ReclassificationAdjustmentsOnCashFlowHedgesBeforeTax                      |       1 |\n",
      "| 46 | income_statement    | RevenueFromContractsWithCustomers                                         |       1 |\n",
      "| 26 | balance_sheet       | NoncurrentProvisionsForEmployeeBenefits                                   |       1 |\n",
      "| 24 | balance_sheet       | NoncurrentLeaseLiabilities                                                |       1 |\n",
      "|  1 | balance_sheet       | CashAndCashEquivalents                                                    |       1 |\n",
      "| 11 | balance_sheet       | CurrentTradeReceivables                                                   |       1 |\n",
      "|  2 | balance_sheet       | ConstructionInProgress                                                    |       1 |\n",
      "|  3 | balance_sheet       | CurrentAdvances                                                           |       1 |\n",
      "|  4 | balance_sheet       | CurrentAssets                                                             |       1 |\n",
      "|  5 | balance_sheet       | CurrentLeaseLiabilities                                                   |       1 |\n",
      "|  6 | balance_sheet       | CurrentLoansReceivedAndCurrentPortionOfNoncurrentLoansReceived            |       1 |\n",
      "|  7 | balance_sheet       | CurrentPrepaymentsAndCurrentAccruedIncome                                 |       1 |\n",
      "|  8 | balance_sheet       | CurrentProvisions                                                         |       1 |\n",
      "|  9 | balance_sheet       | CurrentTaxAssets                                                          |       1 |\n",
      "| 10 | balance_sheet       | CurrentTaxLiabilitiesCurrent                                              |       1 |\n",
      "| 12 | balance_sheet       | DeferredTaxLiabilities                                                    |       1 |\n",
      "| 23 | balance_sheet       | NoncurrentFinancialAssets                                                 |       1 |\n",
      "| 14 | balance_sheet       | EquityAttributableToOwnersOfParent                                        |       1 |\n",
      "| 15 | balance_sheet       | Goodwill                                                                  |       1 |\n",
      "| 16 | balance_sheet       | IntangibleAssetsOtherThanGoodwill                                         |       1 |\n",
      "| 17 | balance_sheet       | Inventories                                                               |       1 |\n",
      "| 18 | balance_sheet       | LandAndBuildings                                                          |       1 |\n",
      "| 19 | balance_sheet       | Machinery                                                                 |       1 |\n",
      "| 20 | balance_sheet       | NoncontrollingInterests                                                   |       1 |\n",
      "| 21 | balance_sheet       | NoncurrentDerivativeFinancialAssets                                       |       1 |\n",
      "| 22 | balance_sheet       | NoncurrentDerivativeFinancialLiabilities                                  |       1 |\n",
      "| 47 | income_statement    | SalesAndMarketingExpense                                                  |       1 |\n"
     ]
    }
   ],
   "source": [
    "a = filtered_df.groupby([\"statement_type\", \"local_name\"])[\"lei\"].count().reset_index(name='count').sort_values(['count'], ascending=False)\n",
    "print(a.to_markdown())"
   ]
  },
  {
   "cell_type": "code",
   "execution_count": null,
   "metadata": {},
   "outputs": [],
   "source": []
  }
 ],
 "metadata": {
  "kernelspec": {
   "display_name": "Python 3.9.12 64-bit",
   "language": "python",
   "name": "python3"
  },
  "language_info": {
   "codemirror_mode": {
    "name": "ipython",
    "version": 3
   },
   "file_extension": ".py",
   "mimetype": "text/x-python",
   "name": "python",
   "nbconvert_exporter": "python",
   "pygments_lexer": "ipython3",
   "version": "3.10.4"
  },
  "orig_nbformat": 4,
  "vscode": {
   "interpreter": {
    "hash": "a40b2ebe089ef02eab9263a1c3109e36bd452c16a522ddb855dc7a024b845180"
   }
  }
 },
 "nbformat": 4,
 "nbformat_minor": 2
}
